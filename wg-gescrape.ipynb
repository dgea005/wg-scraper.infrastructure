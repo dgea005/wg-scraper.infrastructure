{
 "cells": [
  {
   "cell_type": "markdown",
   "metadata": {},
   "source": [
    "links:\n",
    "+ http://naelshiab.com/tutorial-send-email-python/\n",
    "+ https://docs.python.org/3/library/smtplib.html"
   ]
  },
  {
   "cell_type": "markdown",
   "metadata": {},
   "source": [
    "** scrape wg-gesucht, **\n",
    "\n",
    "goal is to be alerted when new listings come online...to be alerted quickly..\n",
    "\n",
    "+ point is to be alerted when a new listing is posted\n",
    "\n",
    "+ need to persist the listings somehow?\n",
    " - or get the latest time of listing\n",
    " - if there is some listing time that would be useful\n",
    "\n",
    "requirements:\n",
    "+ collect links of appropriate properties with following attributes\n",
    "    - 1 - 2 rooms\n",
    "    - available at latest 01/07\n",
    "    - that the rental is long term\n",
    "    - listings of only the last 1 hour? - sent from 8am to midnight CET?\n",
    "    - $m^2 $\n",
    "    - region\n",
    "    - date and time of listing\n",
    "    - check that it isn't a swap  (TAUSCH/SWAP)\n",
    "\n",
    "\n",
    "+ want to run this from some server\n",
    "+ will need to have logging and so on - somehow only new listing should be emailed?\n",
    "+ want to email the results to myself - especially for certain areas?"
   ]
  },
  {
   "cell_type": "markdown",
   "metadata": {},
   "source": [
    "** where the information on each listing is **\n",
    "\n",
    "* ang_spalte_datum \n",
    "* ang_spalte_miete \n",
    "* ang_spalte_groesse \n",
    "* ang_spalte_stadt \n",
    "* ang_spalte_freiab\n",
    "* ang_spalte_freibis"
   ]
  },
  {
   "cell_type": "markdown",
   "metadata": {},
   "source": [
    "** server information **\n",
    "\n",
    "source ~/virtualenv/bin/activate    ### to activate the virtualenv required for pip and so on"
   ]
  },
  {
   "cell_type": "code",
   "execution_count": null,
   "metadata": {
    "collapsed": true
   },
   "outputs": [],
   "source": [
    "## TODO:\n",
    "## dont know if the link could change for the same listing? - but will find out\n",
    "\n",
    "# implement logging? - what if something fails? - would be good to write what fails\n",
    "# also perhaps to suspend if the failure of the script occurs?"
   ]
  },
  {
   "cell_type": "markdown",
   "metadata": {},
   "source": [
    "logic is:\n",
    "+ for each url:\n",
    "    + get listings\n",
    "        + process etc\n",
    "    + check if storage file exists\n",
    "        + if it does read it\n",
    "        + append ALL new listings to csv\n",
    "        + apply url filter to new listings retrieved (to remove duplicates)\n",
    "    + else\n",
    "        + write new listings to csv\n",
    "    + apply listings filter\n",
    "    + return filtered listings\n",
    " + concat loop into one df\n",
    " + send df to email\n",
    " \n",
    " + then just need to schedule this to run every x number of minutes\n",
    "    \n",
    "    "
   ]
  },
  {
   "cell_type": "code",
   "execution_count": 263,
   "metadata": {
    "collapsed": true
   },
   "outputs": [],
   "source": [
    "import requests\n",
    "from bs4 import BeautifulSoup\n",
    "import re\n",
    "import pandas as pd\n",
    "import os.path\n",
    "import numpy as np"
   ]
  },
  {
   "cell_type": "code",
   "execution_count": 231,
   "metadata": {
    "collapsed": false
   },
   "outputs": [],
   "source": [
    "####\n",
    "#### scrape details of listings from one url\n",
    "\n",
    "\n",
    "def get_search_results(url):\n",
    "    r = requests.get(url)\n",
    "    assert r.status_code == 200, 'status code not 200'\n",
    "    html_doc = r.text\n",
    "    return BeautifulSoup(html_doc, 'html.parser')\n",
    "\n",
    "\n",
    "def get_listing_details(listing):\n",
    "    href_link = list(set(filter(None.__ne__, [tag.get('href') for tag in listing.findAll('a')])))\n",
    "    link = 'http://www.wg-gesucht.de/en/' + href_link[0]\n",
    "    cost = (listing.find('td', class_='ang_spalte_miete').\n",
    "                find('span').contents[1].contents[0].\n",
    "                replace(' ','').replace('\\n', '').replace('€',''))\n",
    "    size = (listing.find('td', class_='ang_spalte_groesse').\n",
    "                find('span').contents[0].\n",
    "                replace(' ','').replace('\\n', '').replace('m²', ''))\n",
    "    stadt = (listing.find('td', class_='ang_spalte_stadt').\n",
    "                find('span').contents[0].\n",
    "                replace(' ','').replace('\\n', ''))\n",
    "    free_from = (listing.find('td', class_='ang_spalte_freiab').\n",
    "                    find('span').contents[0])\n",
    "    free_to = listing.find('td', class_ = 'ang_spalte_freibis').find('span')\n",
    "    if free_to:\n",
    "        free_to = free_to.contents[0]\n",
    "    else:\n",
    "        free_to = None\n",
    "    \n",
    "    \n",
    "    return {'link': link,'cost': cost,'size': size,'stadt': stadt,\n",
    "            'free_from': free_from, 'free_to': free_to}\n",
    "\n",
    "#http://www.wg-gesucht.de/en/wohnungen-in-Berlin.8.2.0.0.html\n",
    "#'http://www.wg-gesucht.de/en/1-zimmer-wohnungen-in-Berlin.8.1.0.0.html?filter=fb0bdd36e1f2253e7bb343bba784e123c46b8103025e2e0a3a'\n",
    "def get_latest_listing_details(url):\n",
    "    soup = get_search_results(url)\n",
    "    \n",
    "    ## depending on link we are searching in the 1zimmer or flat part of wg-gesucht\n",
    "    if '8.2.0.0' in url:\n",
    "        flat_type = 'flat'\n",
    "    elif '8.1.0.0' in url:\n",
    "        flat_type = 'studio'\n",
    "    else:\n",
    "        flat_type = ''\n",
    "    \n",
    "    search_results = pd.DataFrame(get_listing_details(prop)\n",
    "                      for prop in soup.findAll('tr', class_=re.compile('listenansicht0|listenansicht1')))\n",
    "    \n",
    "    search_results = (search_results.\n",
    "                         assign(cost = search_results['cost'].astype(int)).\n",
    "                         assign(size = search_results['size'].astype(int)).\n",
    "                         assign(free_from = pd.to_datetime(search_results.free_from, dayfirst=True)).\n",
    "                         assign(free_to = pd.to_datetime(search_results.free_to, dayfirst=True)).\n",
    "                         assign(length = lambda df: (df['free_to'] - df['free_from'])/pd.Timedelta(days=1)).\n",
    "                         assign(scrape_time = pd.Timestamp('now').replace(second=0, microsecond=0)).\n",
    "                         assign(flat_type = flat_type)\n",
    "                     )\n",
    "    \n",
    "    return search_results"
   ]
  },
  {
   "cell_type": "code",
   "execution_count": 268,
   "metadata": {
    "collapsed": true
   },
   "outputs": [],
   "source": [
    "def get_previous_listings(file):\n",
    "    previous_scrapings = pd.read_csv(file)\n",
    "\n",
    "    def convert_dtypes(data):\n",
    "        return (data.\n",
    "                    assign(free_from = lambda df: pd.to_datetime(df['free_from'])).\n",
    "                    assign(free_to = lambda df: pd.to_datetime(df['free_to'])).\n",
    "                    assign(scrape_time = lambda df: pd.to_datetime(df['scrape_time']))\n",
    "                )\n",
    "\n",
    "    return convert_dtypes(previous_scrapings)\n",
    "\n",
    "def filter_old_out(new, old):\n",
    "    unseen_links = np.setdiff1d(new.link.values, old.link.values)\n",
    "    unseen_listings = new[new.link.isin(unseen_links)]\n",
    "    return unseen_listings\n",
    "\n",
    "\n",
    "def filter_requirements(listings):\n",
    "    ## filters\n",
    "    min_free_from = pd.Timestamp('2016-09-28')\n",
    "    max_free_from = pd.Timestamp('2016-11-01')\n",
    "    max_cost = 700\n",
    "    min_cost = 300\n",
    "    min_length = 90\n",
    "    \n",
    "    return (listings.\n",
    "                pipe(lambda df: df[df['free_from'] >= min_free_from]).\n",
    "                pipe(lambda df: df[df['free_from'] <= max_free_from]).\n",
    "                pipe(lambda df: df[df['cost'] <= max_cost]).\n",
    "                pipe(lambda df: df[df['cost'] >= min_cost]).\n",
    "                pipe(lambda df: df[((df['length'] >= min_length)|df['length'].isnull())])\n",
    "    )\n",
    "\n",
    "\n",
    "\n",
    "def get_listings_from_url(url_, data_file):\n",
    "    current_listings = get_latest_listing_details(url_)\n",
    "    if os.path.isfile(data_file):\n",
    "        ## read previous listings\n",
    "        previous_listings = get_previous_listings(data_file)\n",
    "        \n",
    "        ## append ALL listings to data file\n",
    "        current_listings.to_csv(data_file, index=False, mode='a', header=False)\n",
    "        \n",
    "        ## apply url filter\n",
    "        current_listings = filter_old_out(current_listings, previous_listings)\n",
    "    else:\n",
    "        ## else is if the file doesn't exist - should only happen on first run\n",
    "        ## write first instance to csv\n",
    "        current_listings.to_csv(data_file, index=False)\n",
    "    \n",
    "    ## return listings with desired features\n",
    "    return filter_requirements(current_listings)\n",
    "        \n",
    "        \n",
    "        "
   ]
  },
  {
   "cell_type": "code",
   "execution_count": 283,
   "metadata": {
    "collapsed": false
   },
   "outputs": [],
   "source": [
    "## will want scheduler to run this intermittenly\n",
    "\n",
    "urls = ['http://www.wg-gesucht.de/en/wohnungen-in-Berlin.8.1.0.0.html',\n",
    "            'http://www.wg-gesucht.de/en/wohnungen-in-Berlin.8.2.0.0.html']\n",
    "data_file = 'storage.csv'\n",
    "new_listings = pd.concat(get_listings_from_url(url, data_file) for url in urls)\n",
    "if new_listings.shape[0] > 0:\n",
    "    print('send listings')\n",
    "    ## actually send listings --> remember to_html the file\n",
    "else:\n",
    "    print('no listings to send')"
   ]
  },
  {
   "cell_type": "code",
   "execution_count": null,
   "metadata": {
    "collapsed": true
   },
   "outputs": [],
   "source": [
    "pd.options.display.max_colwidth = 100"
   ]
  },
  {
   "cell_type": "code",
   "execution_count": 286,
   "metadata": {
    "collapsed": true
   },
   "outputs": [],
   "source": [
    "pd.options.display.max_colwidth = 150"
   ]
  },
  {
   "cell_type": "code",
   "execution_count": 288,
   "metadata": {
    "collapsed": false
   },
   "outputs": [
    {
     "data": {
      "text/plain": [
       "'<table border=\"1\" class=\"dataframe\">\\n  <thead>\\n    <tr style=\"text-align: right;\">\\n      <th>cost</th>\\n      <th>free_from</th>\\n      <th>free_to</th>\\n      <th>link</th>\\n      <th>size</th>\\n      <th>stadt</th>\\n      <th>length</th>\\n      <th>scrape_time</th>\\n      <th>flat_type</th>\\n    </tr>\\n  </thead>\\n  <tbody>\\n    <tr>\\n      <td>750</td>\\n      <td>2016-10-01</td>\\n      <td>2018-03-31</td>\\n      <td>http://www.wg-gesucht.de/en/wohnungen-in-Berlin-Prenzlauer-Berg.4735750.html</td>\\n      <td>45</td>\\n      <td>PrenzlauerBerg</td>\\n      <td>546.0</td>\\n      <td>2016-08-28 20:43:00</td>\\n      <td>flat</td>\\n    </tr>\\n    <tr>\\n      <td>1299</td>\\n      <td>2016-10-01</td>\\n      <td>NaT</td>\\n      <td>http://www.wg-gesucht.de/en/wohnungen-in-Berlin-Mitte.4210017.html</td>\\n      <td>75</td>\\n      <td>Mitte</td>\\n      <td>NaN</td>\\n      <td>2016-08-28 20:43:00</td>\\n      <td>flat</td>\\n    </tr>\\n    <tr>\\n      <td>890</td>\\n      <td>2016-10-01</td>\\n      <td>2017-10-01</td>\\n      <td>http://www.wg-gesucht.de/en/wohnungen-in-Berlin-Mitte.4399758.html</td>\\n      <td>65</td>\\n      <td>Mitte</td>\\n      <td>365.0</td>\\n      <td>2016-08-28 20:43:00</td>\\n      <td>flat</td>\\n    </tr>\\n    <tr>\\n      <td>858</td>\\n      <td>2016-11-01</td>\\n      <td>NaT</td>\\n      <td>http://www.wg-gesucht.de/en/wohnungen-in-Berlin-Kreuzberg.5755398.html</td>\\n      <td>108</td>\\n      <td>Kreuzberg</td>\\n      <td>NaN</td>\\n      <td>2016-08-28 20:43:00</td>\\n      <td>flat</td>\\n    </tr>\\n    <tr>\\n      <td>740</td>\\n      <td>2016-09-01</td>\\n      <td>NaT</td>\\n      <td>http://www.wg-gesucht.de/en/wohnungen-in-Berlin-Charlottenburg.5755379.html</td>\\n      <td>42</td>\\n      <td>Charlottenburg</td>\\n      <td>NaN</td>\\n      <td>2016-08-28 20:43:00</td>\\n      <td>flat</td>\\n    </tr>\\n    <tr>\\n      <td>620</td>\\n      <td>2016-10-01</td>\\n      <td>NaT</td>\\n      <td>http://www.wg-gesucht.de/en/wohnungen-in-Berlin-Wedding.5748392.html</td>\\n      <td>61</td>\\n      <td>Wedding</td>\\n      <td>NaN</td>\\n      <td>2016-08-28 20:43:00</td>\\n      <td>flat</td>\\n    </tr>\\n    <tr>\\n      <td>610</td>\\n      <td>2016-09-24</td>\\n      <td>2017-02-04</td>\\n      <td>http://www.wg-gesucht.de/en/wohnungen-in-Berlin-Inningen.5755322.html</td>\\n      <td>49</td>\\n      <td>Inningen</td>\\n      <td>133.0</td>\\n      <td>2016-08-28 20:43:00</td>\\n      <td>flat</td>\\n    </tr>\\n    <tr>\\n      <td>1430</td>\\n      <td>2016-09-18</td>\\n      <td>2017-02-28</td>\\n      <td>http://www.wg-gesucht.de/en/wohnungen-in-Berlin-Kreuzberg.5734645.html</td>\\n      <td>72</td>\\n      <td>Kreuzberg</td>\\n      <td>163.0</td>\\n      <td>2016-08-28 20:43:00</td>\\n      <td>flat</td>\\n    </tr>\\n    <tr>\\n      <td>1250</td>\\n      <td>2016-09-06</td>\\n      <td>2016-11-01</td>\\n      <td>http://www.wg-gesucht.de/en/wohnungen-in-Berlin-Prenzlauer-Berg.5755338.html</td>\\n      <td>105</td>\\n      <td>PrenzlauerBerg</td>\\n      <td>56.0</td>\\n      <td>2016-08-28 20:43:00</td>\\n      <td>flat</td>\\n    </tr>\\n    <tr>\\n      <td>1250</td>\\n      <td>2016-09-05</td>\\n      <td>NaT</td>\\n      <td>http://www.wg-gesucht.de/en/wohnungen-in-Berlin-Prenzlauer-Berg.4986162.html</td>\\n      <td>110</td>\\n      <td>PrenzlauerBerg</td>\\n      <td>NaN</td>\\n      <td>2016-08-28 20:43:00</td>\\n      <td>flat</td>\\n    </tr>\\n    <tr>\\n      <td>519</td>\\n      <td>2016-10-01</td>\\n      <td>NaT</td>\\n      <td>http://www.wg-gesucht.de/en/wohnungen-in-Berlin-Charlottenburg.5590877.html</td>\\n      <td>61</td>\\n      <td>Charlottenburg</td>\\n      <td>NaN</td>\\n      <td>2016-08-28 20:43:00</td>\\n      <td>flat</td>\\n    </tr>\\n    <tr>\\n      <td>780</td>\\n      <td>2016-09-09</td>\\n      <td>2016-10-08</td>\\n      <td>http://www.wg-gesucht.de/en/wohnungen-in-Berlin-Wilmersdorf.5755332.html</td>\\n      <td>52</td>\\n      <td>Wilmersdorf</td>\\n      <td>29.0</td>\\n      <td>2016-08-28 20:43:00</td>\\n      <td>flat</td>\\n    </tr>\\n    <tr>\\n      <td>640</td>\\n      <td>2016-10-15</td>\\n      <td>NaT</td>\\n      <td>http://www.wg-gesucht.de/en/wohnungen-in-Berlin-Mitte.5755314.html</td>\\n      <td>54</td>\\n      <td>Mitte</td>\\n      <td>NaN</td>\\n      <td>2016-08-28 20:43:00</td>\\n      <td>flat</td>\\n    </tr>\\n    <tr>\\n      <td>500</td>\\n      <td>2016-09-01</td>\\n      <td>2016-10-08</td>\\n      <td>http://www.wg-gesucht.de/en/wohnungen-in-Berlin-Tegel.5755279.html</td>\\n      <td>50</td>\\n      <td>Tegel</td>\\n      <td>37.0</td>\\n      <td>2016-08-28 20:43:00</td>\\n      <td>flat</td>\\n    </tr>\\n    <tr>\\n      <td>650</td>\\n      <td>2016-09-12</td>\\n      <td>2016-10-02</td>\\n      <td>http://www.wg-gesucht.de/en/wohnungen-in-Berlin-Prenzlauer-Berg.5755273.html</td>\\n      <td>56</td>\\n      <td>PrenzlauerBerg</td>\\n      <td>20.0</td>\\n      <td>2016-08-28 20:43:00</td>\\n      <td>flat</td>\\n    </tr>\\n    <tr>\\n      <td>600</td>\\n      <td>2016-09-03</td>\\n      <td>2016-10-09</td>\\n      <td>http://www.wg-gesucht.de/en/wohnungen-in-Berlin-Mitte.2953049.html</td>\\n      <td>46</td>\\n      <td>Mitte</td>\\n      <td>36.0</td>\\n      <td>2016-08-28 20:43:00</td>\\n      <td>flat</td>\\n    </tr>\\n    <tr>\\n      <td>1467</td>\\n      <td>2016-09-01</td>\\n      <td>2017-12-01</td>\\n      <td>http://www.wg-gesucht.de/en/wohnungen-in-Berlin-Friedrichshain.5743278.html</td>\\n      <td>65</td>\\n      <td>Friedrichshain</td>\\n      <td>456.0</td>\\n      <td>2016-08-28 20:43:00</td>\\n      <td>flat</td>\\n    </tr>\\n    <tr>\\n      <td>812</td>\\n      <td>2016-09-01</td>\\n      <td>NaT</td>\\n      <td>http://www.wg-gesucht.de/en/wohnungen-in-Berlin-Mitte.5708728.html</td>\\n      <td>45</td>\\n      <td>Mitte</td>\\n      <td>NaN</td>\\n      <td>2016-08-28 20:43:00</td>\\n      <td>flat</td>\\n    </tr>\\n    <tr>\\n      <td>750</td>\\n      <td>2016-09-22</td>\\n      <td>2016-10-31</td>\\n      <td>http://www.wg-gesucht.de/en/wohnungen-in-Berlin-Kreuzberg.5008806.html</td>\\n      <td>55</td>\\n      <td>Kreuzberg</td>\\n      <td>39.0</td>\\n      <td>2016-08-28 20:43:00</td>\\n      <td>flat</td>\\n    </tr>\\n    <tr>\\n      <td>450</td>\\n      <td>2016-09-01</td>\\n      <td>2016-09-17</td>\\n      <td>http://www.wg-gesucht.de/en/wohnungen-in-Berlin-Charlottenburg.5752304.html</td>\\n      <td>55</td>\\n      <td>Charlottenburg</td>\\n      <td>16.0</td>\\n      <td>2016-08-28 20:43:00</td>\\n      <td>flat</td>\\n    </tr>\\n  </tbody>\\n</table>'"
      ]
     },
     "execution_count": 288,
     "metadata": {},
     "output_type": "execute_result"
    }
   ],
   "source": [
    "previous_listings.to_html(index=False)"
   ]
  },
  {
   "cell_type": "code",
   "execution_count": null,
   "metadata": {
    "collapsed": true
   },
   "outputs": [],
   "source": []
  },
  {
   "cell_type": "code",
   "execution_count": null,
   "metadata": {
    "collapsed": true
   },
   "outputs": [],
   "source": []
  },
  {
   "cell_type": "code",
   "execution_count": null,
   "metadata": {
    "collapsed": true
   },
   "outputs": [],
   "source": []
  },
  {
   "cell_type": "code",
   "execution_count": null,
   "metadata": {
    "collapsed": true
   },
   "outputs": [],
   "source": []
  },
  {
   "cell_type": "markdown",
   "metadata": {
    "collapsed": true
   },
   "source": [
    "\n",
    "<!DOCTYPE html PUBLIC \"-//W3C//DTD XHTML 1.0 Transitional//EN\" \"http://www.w3.org/TR/xhtml1/DTD/xhtml1-transitional.dtd\">\n",
    "<table border=\"1\" class=\"dataframe\">\\n  <thead>\\n    <tr style=\"text-align: right;\">\\n      <th></th>\\n      <th>cost</th>\\n      <th>free_from</th>\\n      <th>free_to</th>\\n      <th>link</th>\\n      <th>size</th>\\n      <th>stadt</th>\\n      <th>length</th>\\n      <th>scrape_time</th>\\n    </tr>\\n  </thead>\\n  <tbody>\\n    <tr>\\n      <th>0</th>\\n      <td>1250</td>\\n      <td>2016-06-09</td>\\n      <td>2016-01-11</td>\\n      <td>http://www.wg-gesucht.de/en/wohnungen-in-Berli...</td>\\n      <td>105m²</td>\\n      <td>PrenzlauerBerg</td>\\n      <td>-150.0</td>\\n      <td>2016-08-28 19:24:00</td>\\n    </tr>\\n    <tr>\\n      <th>1</th>\\n      <td>1250</td>\\n      <td>2016-05-09</td>\\n      <td>NaT</td>\\n      <td>http://www.wg-gesucht.de/en/wohnungen-in-Berli...</td>\\n      <td>110m²</td>\\n      <td>PrenzlauerBerg</td>\\n      <td>NaN</td>\\n      <td>2016-08-28 19:24:00</td>\\n    </tr>\\n    <tr>\\n      <th>2</th>\\n      <td>519</td>\\n      <td>2016-01-10</td>\\n      <td>NaT</td>\\n      <td>http://www.wg-gesucht.de/en/wohnungen-in-Berli...</td>\\n      <td>61m²</td>\\n      <td>Charlottenburg</td>\\n      <td>NaN</td>\\n      <td>2016-08-28 19:24:00</td>\\n    </tr>\\n    <tr>\\n      <th>3</th>\\n      <td>780</td>\\n      <td>2016-09-09</td>\\n      <td>2016-08-10</td>\\n      <td>http://www.wg-gesucht.de/en/wohnungen-in-Berli...</td>\\n      <td>52m²</td>\\n      <td>Wilmersdorf</td>\\n      <td>-30.0</td>\\n      <td>2016-08-28 19:24:00</td>\\n    </tr>\\n    <tr>\\n      <th>4</th>\\n      <td>640</td>\\n      <td>2016-10-15</td>\\n      <td>NaT</td>\\n      <td>http://www.wg-gesucht.de/en/wohnungen-in-Berli...</td>\\n      <td>54m²</td>\\n      <td>Mitte</td>\\n      <td>NaN</td>\\n      <td>2016-08-28 19:24:00</td>\\n    </tr>\\n    <tr>\\n      <th>5</th>\\n      <td>500</td>\\n      <td>2016-01-09</td>\\n      <td>2016-08-10</td>\\n      <td>http://www.wg-gesucht.de/en/wohnungen-in-Berli...</td>\\n      <td>50m²</td>\\n      <td>Tegel</td>\\n      <td>214.0</td>\\n      <td>2016-08-28 19:24:00</td>\\n    </tr>\\n    <tr>\\n      <th>6</th>\\n      <td>650</td>\\n      <td>2016-12-09</td>\\n      <td>2016-02-10</td>\\n      <td>http://www.wg-gesucht.de/en/wohnungen-in-Berli...</td>\\n      <td>56m²</td>\\n      <td>PrenzlauerBerg</td>\\n      <td>-303.0</td>\\n      <td>2016-08-28 19:24:00</td>\\n    </tr>\\n    <tr>\\n      <th>7</th>\\n      <td>750</td>\\n      <td>2016-01-10</td>\\n      <td>2018-03-31</td>\\n      <td>http://www.wg-gesucht.de/en/wohnungen-in-Berli...</td>\\n      <td>45m²</td>\\n      <td>PrenzlauerBerg</td>\\n      <td>811.0</td>\\n      <td>2016-08-28 19:24:00</td>\\n    </tr>\\n    <tr>\\n      <th>8</th>\\n      <td>600</td>\\n      <td>2016-03-09</td>\\n      <td>2016-09-10</td>\\n      <td>http://www.wg-gesucht.de/en/wohnungen-in-Berli...</td>\\n      <td>46m²</td>\\n      <td>Mitte</td>\\n      <td>185.0</td>\\n      <td>2016-08-28 19:24:00</td>\\n    </tr>\\n    <tr>\\n      <th>9</th>\\n      <td>1467</td>\\n      <td>2016-01-09</td>\\n      <td>2017-01-12</td>\\n      <td>http://www.wg-gesucht.de/en/wohnungen-in-Berli...</td>\\n      <td>65m²</td>\\n      <td>Friedrichshain</td>\\n      <td>369.0</td>\\n      <td>2016-08-28 19:24:00</td>\\n    </tr>\\n    <tr>\\n      <th>10</th>\\n      <td>812</td>\\n      <td>2016-01-09</td>\\n      <td>NaT</td>\\n      <td>http://www.wg-gesucht.de/en/wohnungen-in-Berli...</td>\\n      <td>45m²</td>\\n      <td>Mitte</td>\\n      <td>NaN</td>\\n      <td>2016-08-28 19:24:00</td>\\n    </tr>\\n    <tr>\\n      <th>11</th>\\n      <td>750</td>\\n      <td>2016-09-22</td>\\n      <td>2016-10-31</td>\\n      <td>http://www.wg-gesucht.de/en/wohnungen-in-Berli...</td>\\n      <td>55m²</td>\\n      <td>Kreuzberg</td>\\n      <td>39.0</td>\\n      <td>2016-08-28 19:24:00</td>\\n    </tr>\\n    <tr>\\n      <th>12</th>\\n      <td>450</td>\\n      <td>2016-01-09</td>\\n      <td>2016-09-17</td>\\n      <td>http://www.wg-gesucht.de/en/wohnungen-in-Berli...</td>\\n      <td>55m²</td>\\n      <td>Charlottenburg</td>\\n      <td>252.0</td>\\n      <td>2016-08-28 19:24:00</td>\\n    </tr>\\n    <tr>\\n      <th>13</th>\\n      <td>700</td>\\n      <td>2016-01-09</td>\\n      <td>NaT</td>\\n      <td>http://www.wg-gesucht.de/en/wohnungen-in-Berli...</td>\\n      <td>63m²</td>\\n      <td>Neukölln</td>\\n      <td>NaN</td>\\n      <td>2016-08-28 19:24:00</td>\\n    </tr>\\n    <tr>\\n      <th>14</th>\\n      <td>957</td>\\n      <td>2016-09-23</td>\\n      <td>2017-05-23</td>\\n      <td>http://www.wg-gesucht.de/en/wohnungen-in-Berli...</td>\\n      <td>50m²</td>\\n      <td>Mitte</td>\\n      <td>242.0</td>\\n      <td>2016-08-28 19:24:00</td>\\n    </tr>\\n    <tr>\\n      <th>15</th>\\n      <td>2100</td>\\n      <td>2016-08-28</td>\\n      <td>NaT</td>\\n      <td>http://www.wg-gesucht.de/en/wohnungen-in-Berli...</td>\\n      <td>130m²</td>\\n      <td>Mitte</td>\\n      <td>NaN</td>\\n      <td>2016-08-28 19:24:00</td>\\n    </tr>\\n    <tr>\\n      <th>16</th>\\n      <td>1150</td>\\n      <td>2016-08-28</td>\\n      <td>NaT</td>\\n      <td>http://www.wg-gesucht.de/en/wohnungen-in-Berli...</td>\\n      <td>50m²</td>\\n      <td>Wilmersdorf</td>\\n      <td>NaN</td>\\n      <td>2016-08-28 19:24:00</td>\\n    </tr>\\n    <tr>\\n      <th>17</th>\\n      <td>550</td>\\n      <td>2016-12-09</td>\\n      <td>2016-02-10</td>\\n      <td>http://www.wg-gesucht.de/en/wohnungen-in-Berli...</td>\\n      <td>71m²</td>\\n      <td>Schöneberg</td>\\n      <td>-303.0</td>\\n      <td>2016-08-28 19:24:00</td>\\n    </tr>\\n    <tr>\\n      <th>18</th>\\n      <td>1400</td>\\n      <td>2016-10-10</td>\\n      <td>2016-12-26</td>\\n      <td>http://www.wg-gesucht.de/en/wohnungen-in-Berli...</td>\\n      <td>76m²</td>\\n      <td>Friedrichshain</td>\\n      <td>77.0</td>\\n      <td>2016-08-28 19:24:00</td>\\n    </tr>\\n    <tr>\\n      <th>19</th>\\n      <td>65</td>\\n      <td>2016-06-09</td>\\n      <td>2016-09-20</td>\\n      <td>http://www.wg-gesucht.de/en/wohnungen-in-Berli...</td>\\n      <td>65m²</td>\\n      <td>Mitte</td>\\n      <td>103.0</td>\\n      <td>2016-08-28 19:24:00</td>\\n    </tr>\\n  </tbody>\\n</table>"
   ]
  },
  {
   "cell_type": "code",
   "execution_count": null,
   "metadata": {
    "collapsed": true
   },
   "outputs": [],
   "source": []
  },
  {
   "cell_type": "code",
   "execution_count": null,
   "metadata": {
    "collapsed": true
   },
   "outputs": [],
   "source": []
  }
 ],
 "metadata": {
  "kernelspec": {
   "display_name": "Python 3",
   "language": "python",
   "name": "python3"
  },
  "language_info": {
   "codemirror_mode": {
    "name": "ipython",
    "version": 3
   },
   "file_extension": ".py",
   "mimetype": "text/x-python",
   "name": "python",
   "nbconvert_exporter": "python",
   "pygments_lexer": "ipython3",
   "version": "3.5.1"
  }
 },
 "nbformat": 4,
 "nbformat_minor": 0
}

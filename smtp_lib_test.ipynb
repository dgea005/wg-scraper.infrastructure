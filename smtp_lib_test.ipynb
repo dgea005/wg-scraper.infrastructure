{
 "cells": [
  {
   "cell_type": "markdown",
   "metadata": {},
   "source": [
    "will use mailgun - need to see the speed though\n",
    "\n",
    "-- it's super slow - 10minutes"
   ]
  },
  {
   "cell_type": "code",
   "execution_count": 8,
   "metadata": {
    "collapsed": true
   },
   "outputs": [],
   "source": [
    "import requests\n",
    "from secrets import key, sandbox, recipient"
   ]
  },
  {
   "cell_type": "code",
   "execution_count": 6,
   "metadata": {
    "collapsed": true
   },
   "outputs": [],
   "source": [
    "request_url = 'https://api.mailgun.net/v2/{0}/messages'.format(sandbox)\n",
    "request = requests.post(request_url, auth=('api', key), data={\n",
    "                        'from': 'hello@example.com',\n",
    "                        'to': recipient,\n",
    "                        'subject': 'Hello',\n",
    "                        'text': 'Hello from Mailgun'})"
   ]
  },
  {
   "cell_type": "code",
   "execution_count": 7,
   "metadata": {
    "collapsed": false
   },
   "outputs": [
    {
     "name": "stdout",
     "output_type": "stream",
     "text": [
      "Status: 200\n",
      "Body:   {\n",
      "  \"id\": \"<20160614211825.11521.92507.DE36CA3F@sandboxff55f9b97ea54de0825ef95dd7655a0d.mailgun.org>\",\n",
      "  \"message\": \"Queued. Thank you.\"\n",
      "}\n"
     ]
    }
   ],
   "source": [
    "print('Status: {0}'.format(request.status_code))\n",
    "print('Body:   {0}'.format(request.text))"
   ]
  }
 ],
 "metadata": {
  "kernelspec": {
   "display_name": "Python 3",
   "language": "python",
   "name": "python3"
  },
  "language_info": {
   "codemirror_mode": {
    "name": "ipython",
    "version": 3
   },
   "file_extension": ".py",
   "mimetype": "text/x-python",
   "name": "python",
   "nbconvert_exporter": "python",
   "pygments_lexer": "ipython3",
   "version": "3.5.1"
  }
 },
 "nbformat": 4,
 "nbformat_minor": 0
}
